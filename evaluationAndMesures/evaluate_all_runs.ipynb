{
 "cells": [
  {
   "cell_type": "code",
   "execution_count": 1,
   "metadata": {
    "collapsed": true
   },
   "outputs": [],
   "source": [
    "# parameters:\n",
    "import os\n",
    "\n",
    "trec_eval = \"/home/thiziri/Documents/DOCTORAT/SOFT/trec_eval.9.0\"\n",
    "judgements = \"/home/thiziri/Documents/DOCTORAT/COLLECTION/QRELS/extractedQrels/qrels_Robust4_tab\"\n",
    "runs = \"/home/thiziri/Documents/DOCTORAT/OSIRIM/projets/iris/PROJETS/WEIR/code/3rdYear/MatchZoo_latest/MatchZoo/examples/trec/predictions/concatenated/ACCNNM/5/idf_bidir\"\n",
    "out = \"/home/thiziri/Documents/DOCTORAT/OSIRIM/projets/iris/PROJETS/WEIR/code/3rdYear/MatchZoo_latest/MatchZoo/examples/trec/evaluation/concatenated/ACCNNM/5/idf_bidir\"\n",
    "clue = \"trec_\"\n"
   ]
  },
  {
   "cell_type": "code",
   "execution_count": 6,
   "metadata": {},
   "outputs": [],
   "source": [
    "# evalRuns.py --r=<runs_folder> --te=<trec_eval> --rj=<qrels> --o=<outputfolder> [--c=<clue>]\n",
    "cmd_trec = \"python3 runs/evalRuns.py --r={r} --te={te} --rj={rj} --o={o} --c={c}\".format(r=runs, te=trec_eval, rj=judgements, \n",
    "                                                                                         o=out, c=clue)\n",
    "# evalRuns.py --r=<runs_file> [--m=<measures_list>] [--rj=<qrels>] --check=<indice>\n",
    "cmd_eval = \"python3 measures/evaluate.py --r=<runs_file> --rj=<qrels> --check='trec_' >> <out>\"  # + join(out, f)+\".eval\"\n",
    "cmd_eval2 = \"python3 measures/evaluate.py --r=<runs_file> --check='trec_' >> <out>\"  # + join(out, f)+\".eval\""
   ]
  },
  {
   "cell_type": "code",
   "execution_count": 7,
   "metadata": {},
   "outputs": [
    {
     "name": "stdout",
     "output_type": "stream",
     "text": [
      ".\n"
     ]
    },
    {
     "data": {
      "text/plain": [
       "0"
      ]
     },
     "execution_count": 7,
     "metadata": {},
     "output_type": "execute_result"
    }
   ],
   "source": [
    "# run evaluations: with trec_eval\n",
    "\n",
    "print(os.curdir)\n",
    "os.chdir(\"/home/thiziri/Documents/DOCTORAT/PROGRAMS/Projects/2ndYear/util/evaluationAndMesures\")\n",
    "os.system(cmd_trec)"
   ]
  },
  {
   "cell_type": "code",
   "execution_count": 8,
   "metadata": {
    "collapsed": true
   },
   "outputs": [
    {
     "name": "stdout",
     "output_type": "stream",
     "text": [
      "trec_accnnm_p5_ctxtNum5_ctxtEmb20_convDrop0.0_lstmDrop0.0_pool2_perContext_attP_mergeLevels_LSTM_fold_1.txt\n"
     ]
    },
    {
     "name": "stdout",
     "output_type": "stream",
     "text": [
      "trec_accnnm_p5_ctxtNum5_ctxtEmb20_convDrop0.0_lstmDrop0.0_pool2_perContext_attP_mergeLevels_biLSTM_fold_4.txt\n"
     ]
    },
    {
     "name": "stdout",
     "output_type": "stream",
     "text": [
      "trec_accnnm_p5_ctxtNum5_ctxtEmb10_convDrop0.2_lstmDrop0.2_pool3_perContext_mergeLevels_biLSTM_fold_2.txt\n"
     ]
    },
    {
     "name": "stdout",
     "output_type": "stream",
     "text": [
      "trec_accnnm_p5_ctxtNum5_ctxtEmb10_convDrop0.2_lstmDrop0.2_pool3_perContext_mergeLevels_LSTM_fold_2.txt\n"
     ]
    },
    {
     "name": "stdout",
     "output_type": "stream",
     "text": [
      "trec_accnnm_p5_ctxtNum5_ctxtEmb20_convDrop0.0_lstmDrop0.0_pool2_perContext_attP_mergeLevels_biLSTM_idf_fold_1.txt\n"
     ]
    },
    {
     "name": "stdout",
     "output_type": "stream",
     "text": [
      "trec_accnnm_p5_ctxtNum10_ctxtEmb10_convDrop0.0_lstmDrop0.0_pool2_perContext_biLSTM_fold_4.txt\n"
     ]
    },
    {
     "name": "stdout",
     "output_type": "stream",
     "text": [
      "trec_accnnm_p5_ctxtNum10_ctxtEmb10_convDrop0.0_lstmDrop0.0_pool2_perContext_LSTM_fold_3.txt\n"
     ]
    },
    {
     "name": "stdout",
     "output_type": "stream",
     "text": [
      "trec_accnnm_p5_ctxtNum5_ctxtEmb20_convDrop0.0_lstmDrop0.0_pool2_perContext_attP_mergeLevels_LSTM_idf_fold_0.txt\n"
     ]
    },
    {
     "name": "stdout",
     "output_type": "stream",
     "text": [
      "trec_accnnm_p5_ctxtNum5_ctxtEmb10_convDrop0.2_lstmDrop0.2_pool3_perContext_mergeLevels_LSTM_fold_3.txt\n"
     ]
    },
    {
     "name": "stdout",
     "output_type": "stream",
     "text": [
      "trec_accnnm_p5_ctxtNum10_ctxtEmb10_convDrop0.0_lstmDrop0.0_pool2_attP_biLSTM_idf_fold_3.txt\n"
     ]
    },
    {
     "name": "stdout",
     "output_type": "stream",
     "text": [
      "trec_accnnm_p5_ctxtNum5_ctxtEmb20_convDrop0.0_lstmDrop0.0_pool2_perContext_attP_mergeLevels_biLSTM_idf_fold_4.txt\n"
     ]
    },
    {
     "name": "stdout",
     "output_type": "stream",
     "text": [
      "trec_accnnm_p5_ctxtNum10_ctxtEmb10_convDrop0.0_lstmDrop0.0_pool2_perContext_LSTM_idf_fold_1.txt\n"
     ]
    },
    {
     "name": "stdout",
     "output_type": "stream",
     "text": [
      "trec_accnnm_p5_ctxtNum5_ctxtEmb20_convDrop0.0_lstmDrop0.0_pool2_perContext_attP_mergeLevels_biLSTM_fold_2.txt\n"
     ]
    },
    {
     "name": "stdout",
     "output_type": "stream",
     "text": [
      "trec_accnnm_p5_ctxtNum10_ctxtEmb10_convDrop0.0_lstmDrop0.0_pool2_perContext_LSTM_idf_fold_0.txt\n"
     ]
    },
    {
     "name": "stdout",
     "output_type": "stream",
     "text": [
      "trec_accnnm_p5_ctxtNum10_ctxtEmb10_convDrop0.0_lstmDrop0.0_pool2_perContext_LSTM_fold_2.txt\n"
     ]
    },
    {
     "name": "stdout",
     "output_type": "stream",
     "text": [
      "trec_accnnm_p5_ctxtNum10_ctxtEmb10_convDrop0.0_lstmDrop0.0_pool2_attP_biLSTM_idf_fold_2.txt\n"
     ]
    },
    {
     "name": "stdout",
     "output_type": "stream",
     "text": [
      "trec_accnnm_p5_ctxtNum5_ctxtEmb10_convDrop0.2_lstmDrop0.2_pool3_perContext_mergeLevels_LSTM_fold_4.txt\n"
     ]
    },
    {
     "name": "stdout",
     "output_type": "stream",
     "text": [
      "trec_accnnm_p5_ctxtNum10_ctxtEmb10_convDrop0.0_lstmDrop0.0_pool2_perContext_LSTM_fold_1.txt\n"
     ]
    },
    {
     "name": "stdout",
     "output_type": "stream",
     "text": [
      "trec_accnnm_p5_ctxtNum5_ctxtEmb20_convDrop0.0_lstmDrop0.0_pool2_perContext_attP_mergeLevels_LSTM_idf_fold_3.txt\n"
     ]
    },
    {
     "name": "stdout",
     "output_type": "stream",
     "text": [
      "trec_accnnm_p5_ctxtNum5_ctxtEmb20_convDrop0.0_lstmDrop0.0_pool2_perContext_attP_mergeLevels_LSTM_idf_fold_1.txt\n"
     ]
    },
    {
     "name": "stdout",
     "output_type": "stream",
     "text": [
      "trec_accnnm_p5_ctxtNum10_ctxtEmb10_convDrop0.0_lstmDrop0.0_pool2_attP_biLSTM_idf_fold_4.txt\n"
     ]
    },
    {
     "name": "stdout",
     "output_type": "stream",
     "text": [
      "trec_accnnm_p5_ctxtNum5_ctxtEmb20_convDrop0.0_lstmDrop0.0_pool2_perContext_attP_mergeLevels_biLSTM_idf_fold_0.txt\n"
     ]
    },
    {
     "name": "stdout",
     "output_type": "stream",
     "text": [
      "trec_accnnm_p5_ctxtNum10_ctxtEmb10_convDrop0.0_lstmDrop0.0_pool2_attP_biLSTM_fold_4.txt\n"
     ]
    },
    {
     "name": "stdout",
     "output_type": "stream",
     "text": [
      "trec_accnnm_p5_ctxtNum5_ctxtEmb20_convDrop0.0_lstmDrop0.0_pool2_perContext_attP_mergeLevels_LSTM_fold_4.txt\n"
     ]
    },
    {
     "name": "stdout",
     "output_type": "stream",
     "text": [
      "trec_accnnm_p5_ctxtNum5_ctxtEmb20_convDrop0.0_lstmDrop0.0_pool2_perContext_attP_mergeLevels_LSTM_fold_3.txt\n"
     ]
    },
    {
     "name": "stdout",
     "output_type": "stream",
     "text": [
      "trec_accnnm_p5_ctxtNum10_ctxtEmb10_convDrop0.0_lstmDrop0.0_pool2_attP_LSTM_idf_fold_3.txt\n"
     ]
    },
    {
     "name": "stdout",
     "output_type": "stream",
     "text": [
      "trec_accnnm_p5_ctxtNum10_ctxtEmb10_convDrop0.0_lstmDrop0.0_pool2_perContext_biLSTM_fold_0.txt\n"
     ]
    },
    {
     "name": "stdout",
     "output_type": "stream",
     "text": [
      "trec_accnnm_p5_ctxtNum10_ctxtEmb10_convDrop0.0_lstmDrop0.0_pool2_perContext_biLSTM_idf_fold_2.txt\n"
     ]
    },
    {
     "name": "stdout",
     "output_type": "stream",
     "text": [
      "trec_accnnm_p5_ctxtNum10_ctxtEmb10_convDrop0.0_lstmDrop0.0_pool2_attP_LSTM_idf_fold_2.txt\n"
     ]
    },
    {
     "name": "stdout",
     "output_type": "stream",
     "text": [
      "trec_accnnm_p5_ctxtNum10_ctxtEmb10_convDrop0.0_lstmDrop0.0_pool2_perContext_biLSTM_fold_2.txt\n"
     ]
    },
    {
     "name": "stdout",
     "output_type": "stream",
     "text": [
      "trec_accnnm_p5_ctxtNum5_ctxtEmb10_convDrop0.2_lstmDrop0.2_pool3_perContext_mergeLevels_LSTM_idf_fold_1.txt\n"
     ]
    },
    {
     "name": "stdout",
     "output_type": "stream",
     "text": [
      "trec_accnnm_p5_ctxtNum10_ctxtEmb10_convDrop0.0_lstmDrop0.0_pool2_perContext_LSTM_fold_4.txt\n"
     ]
    },
    {
     "name": "stdout",
     "output_type": "stream",
     "text": [
      "trec_accnnm_p5_ctxtNum5_ctxtEmb10_convDrop0.2_lstmDrop0.2_pool3_perContext_mergeLevels_biLSTM_fold_3.txt\n"
     ]
    },
    {
     "name": "stdout",
     "output_type": "stream",
     "text": [
      "trec_accnnm_p5_ctxtNum10_ctxtEmb10_convDrop0.0_lstmDrop0.0_pool2_perContext_LSTM_idf_fold_4.txt\n"
     ]
    },
    {
     "name": "stdout",
     "output_type": "stream",
     "text": [
      "trec_accnnm_p5_ctxtNum5_ctxtEmb10_convDrop0.2_lstmDrop0.2_pool3_perContext_mergeLevels_LSTM_idf_fold_3.txt\n"
     ]
    },
    {
     "name": "stdout",
     "output_type": "stream",
     "text": [
      "trec_accnnm_p5_ctxtNum10_ctxtEmb10_convDrop0.0_lstmDrop0.0_pool2_perContext_LSTM_idf_fold_3.txt\n"
     ]
    },
    {
     "name": "stdout",
     "output_type": "stream",
     "text": [
      "trec_accnnm_p5_ctxtNum5_ctxtEmb10_convDrop0.2_lstmDrop0.2_pool3_perContext_mergeLevels_LSTM_idf_fold_0.txt\n"
     ]
    },
    {
     "name": "stdout",
     "output_type": "stream",
     "text": [
      "trec_accnnm_p5_ctxtNum10_ctxtEmb10_convDrop0.0_lstmDrop0.0_pool2_attP_LSTM_idf_fold_4.txt\n"
     ]
    },
    {
     "name": "stdout",
     "output_type": "stream",
     "text": [
      "trec_accnnm_p5_ctxtNum10_ctxtEmb10_convDrop0.0_lstmDrop0.0_pool2_perContext_biLSTM_fold_1.txt\n"
     ]
    },
    {
     "name": "stdout",
     "output_type": "stream",
     "text": [
      "trec_accnnm_p5_ctxtNum5_ctxtEmb10_convDrop0.2_lstmDrop0.2_pool3_perContext_mergeLevels_biLSTM_idf_fold_2.txt\n"
     ]
    },
    {
     "name": "stdout",
     "output_type": "stream",
     "text": [
      "trec_accnnm_p5_ctxtNum5_ctxtEmb10_convDrop0.2_lstmDrop0.2_pool3_perContext_mergeLevels_LSTM_fold_0.txt\n"
     ]
    },
    {
     "name": "stdout",
     "output_type": "stream",
     "text": [
      "trec_accnnm_p5_ctxtNum5_ctxtEmb20_convDrop0.0_lstmDrop0.0_pool2_perContext_attP_mergeLevels_LSTM_fold_0.txt\n"
     ]
    },
    {
     "name": "stdout",
     "output_type": "stream",
     "text": [
      "trec_accnnm_p5_ctxtNum10_ctxtEmb10_convDrop0.0_lstmDrop0.0_pool2_attP_LSTM_idf_fold_0.txt\n"
     ]
    },
    {
     "name": "stdout",
     "output_type": "stream",
     "text": [
      "trec_accnnm_p5_ctxtNum10_ctxtEmb10_convDrop0.0_lstmDrop0.0_pool2_perContext_biLSTM_fold_3.txt\n"
     ]
    },
    {
     "name": "stdout",
     "output_type": "stream",
     "text": [
      "trec_accnnm_p5_ctxtNum5_ctxtEmb10_convDrop0.2_lstmDrop0.2_pool3_perContext_mergeLevels_biLSTM_idf_fold_0.txt\n"
     ]
    },
    {
     "name": "stdout",
     "output_type": "stream",
     "text": [
      "trec_accnnm_p5_ctxtNum10_ctxtEmb10_convDrop0.0_lstmDrop0.0_pool2_perContext_biLSTM_idf_fold_4.txt\n"
     ]
    },
    {
     "name": "stdout",
     "output_type": "stream",
     "text": [
      "trec_accnnm_p5_ctxtNum5_ctxtEmb10_convDrop0.2_lstmDrop0.2_pool3_perContext_mergeLevels_biLSTM_idf_fold_1.txt\n"
     ]
    },
    {
     "name": "stdout",
     "output_type": "stream",
     "text": [
      "trec_accnnm_p5_ctxtNum10_ctxtEmb10_convDrop0.0_lstmDrop0.0_pool2_attP_biLSTM_fold_3.txt\n"
     ]
    },
    {
     "name": "stdout",
     "output_type": "stream",
     "text": [
      "trec_accnnm_p5_ctxtNum5_ctxtEmb10_convDrop0.2_lstmDrop0.2_pool3_perContext_mergeLevels_biLSTM_fold_1.txt\n"
     ]
    },
    {
     "name": "stdout",
     "output_type": "stream",
     "text": [
      "trec_accnnm_p5_ctxtNum5_ctxtEmb20_convDrop0.0_lstmDrop0.0_pool2_perContext_attP_mergeLevels_LSTM_idf_fold_2.txt\n"
     ]
    },
    {
     "name": "stdout",
     "output_type": "stream",
     "text": [
      "trec_accnnm_p5_ctxtNum10_ctxtEmb10_convDrop0.0_lstmDrop0.0_pool2_attP_LSTM_fold_2.txt\n"
     ]
    },
    {
     "name": "stdout",
     "output_type": "stream",
     "text": [
      "trec_accnnm_p5_ctxtNum5_ctxtEmb20_convDrop0.0_lstmDrop0.0_pool2_perContext_attP_mergeLevels_LSTM_fold_2.txt\n"
     ]
    },
    {
     "name": "stdout",
     "output_type": "stream",
     "text": [
      "trec_accnnm_p5_ctxtNum10_ctxtEmb10_convDrop0.0_lstmDrop0.0_pool2_attP_LSTM_fold_1.txt\n"
     ]
    },
    {
     "name": "stdout",
     "output_type": "stream",
     "text": [
      "trec_accnnm_p5_ctxtNum10_ctxtEmb10_convDrop0.0_lstmDrop0.0_pool2_attP_LSTM_idf_fold_1.txt\n"
     ]
    },
    {
     "name": "stdout",
     "output_type": "stream",
     "text": [
      "trec_accnnm_p5_ctxtNum5_ctxtEmb10_convDrop0.2_lstmDrop0.2_pool3_perContext_mergeLevels_biLSTM_fold_4.txt\n"
     ]
    },
    {
     "name": "stdout",
     "output_type": "stream",
     "text": [
      "trec_accnnm_p5_ctxtNum5_ctxtEmb10_convDrop0.2_lstmDrop0.2_pool3_perContext_mergeLevels_biLSTM_fold_0.txt\n"
     ]
    },
    {
     "name": "stdout",
     "output_type": "stream",
     "text": [
      "trec_accnnm_p5_ctxtNum10_ctxtEmb10_convDrop0.0_lstmDrop0.0_pool2_attP_LSTM_fold_0.txt\n"
     ]
    },
    {
     "name": "stdout",
     "output_type": "stream",
     "text": [
      "trec_accnnm_p5_ctxtNum5_ctxtEmb20_convDrop0.0_lstmDrop0.0_pool2_perContext_attP_mergeLevels_biLSTM_fold_0.txt\n"
     ]
    },
    {
     "name": "stdout",
     "output_type": "stream",
     "text": [
      "trec_accnnm_p5_ctxtNum10_ctxtEmb10_convDrop0.0_lstmDrop0.0_pool2_attP_biLSTM_idf_fold_0.txt\n"
     ]
    },
    {
     "name": "stdout",
     "output_type": "stream",
     "text": [
      "trec_accnnm_p5_ctxtNum5_ctxtEmb20_convDrop0.0_lstmDrop0.0_pool2_perContext_attP_mergeLevels_biLSTM_idf_fold_3.txt\n"
     ]
    },
    {
     "name": "stdout",
     "output_type": "stream",
     "text": [
      "trec_accnnm_p5_ctxtNum10_ctxtEmb10_convDrop0.0_lstmDrop0.0_pool2_attP_biLSTM_fold_0.txt\n"
     ]
    },
    {
     "name": "stdout",
     "output_type": "stream",
     "text": [
      "trec_accnnm_p5_ctxtNum5_ctxtEmb10_convDrop0.2_lstmDrop0.2_pool3_perContext_mergeLevels_biLSTM_idf_fold_4.txt\n"
     ]
    },
    {
     "name": "stdout",
     "output_type": "stream",
     "text": [
      "trec_accnnm_p5_ctxtNum10_ctxtEmb10_convDrop0.0_lstmDrop0.0_pool2_attP_biLSTM_idf_fold_1.txt\n"
     ]
    },
    {
     "name": "stdout",
     "output_type": "stream",
     "text": [
      "trec_accnnm_p5_ctxtNum10_ctxtEmb10_convDrop0.0_lstmDrop0.0_pool2_perContext_LSTM_idf_fold_2.txt\n"
     ]
    },
    {
     "name": "stdout",
     "output_type": "stream",
     "text": [
      "trec_accnnm_p5_ctxtNum5_ctxtEmb20_convDrop0.0_lstmDrop0.0_pool2_perContext_attP_mergeLevels_LSTM_idf_fold_4.txt\n"
     ]
    },
    {
     "name": "stdout",
     "output_type": "stream",
     "text": [
      "trec_accnnm_p5_ctxtNum5_ctxtEmb20_convDrop0.0_lstmDrop0.0_pool2_perContext_attP_mergeLevels_biLSTM_fold_3.txt\n"
     ]
    },
    {
     "name": "stdout",
     "output_type": "stream",
     "text": [
      "trec_accnnm_p5_ctxtNum10_ctxtEmb10_convDrop0.0_lstmDrop0.0_pool2_perContext_biLSTM_idf_fold_3.txt\n"
     ]
    },
    {
     "name": "stdout",
     "output_type": "stream",
     "text": [
      "trec_accnnm_p5_ctxtNum5_ctxtEmb20_convDrop0.0_lstmDrop0.0_pool2_perContext_attP_mergeLevels_biLSTM_fold_1.txt\n"
     ]
    },
    {
     "name": "stdout",
     "output_type": "stream",
     "text": [
      "trec_accnnm_p5_ctxtNum10_ctxtEmb10_convDrop0.0_lstmDrop0.0_pool2_attP_LSTM_fold_4.txt\n"
     ]
    },
    {
     "name": "stdout",
     "output_type": "stream",
     "text": [
      "trec_accnnm_p5_ctxtNum10_ctxtEmb10_convDrop0.0_lstmDrop0.0_pool2_perContext_biLSTM_idf_fold_0.txt\n"
     ]
    },
    {
     "name": "stdout",
     "output_type": "stream",
     "text": [
      "trec_accnnm_p5_ctxtNum5_ctxtEmb10_convDrop0.2_lstmDrop0.2_pool3_perContext_mergeLevels_LSTM_fold_1.txt\n"
     ]
    },
    {
     "name": "stdout",
     "output_type": "stream",
     "text": [
      "trec_accnnm_p5_ctxtNum10_ctxtEmb10_convDrop0.0_lstmDrop0.0_pool2_attP_LSTM_fold_3.txt\n"
     ]
    },
    {
     "name": "stdout",
     "output_type": "stream",
     "text": [
      "trec_accnnm_p5_ctxtNum5_ctxtEmb20_convDrop0.0_lstmDrop0.0_pool2_perContext_attP_mergeLevels_biLSTM_idf_fold_2.txt\n"
     ]
    },
    {
     "name": "stdout",
     "output_type": "stream",
     "text": [
      "trec_accnnm_p5_ctxtNum10_ctxtEmb10_convDrop0.0_lstmDrop0.0_pool2_attP_biLSTM_fold_2.txt\n"
     ]
    },
    {
     "name": "stdout",
     "output_type": "stream",
     "text": [
      "trec_accnnm_p5_ctxtNum10_ctxtEmb10_convDrop0.0_lstmDrop0.0_pool2_attP_biLSTM_fold_1.txt\n"
     ]
    },
    {
     "name": "stdout",
     "output_type": "stream",
     "text": [
      "trec_accnnm_p5_ctxtNum5_ctxtEmb10_convDrop0.2_lstmDrop0.2_pool3_perContext_mergeLevels_LSTM_idf_fold_4.txt\n"
     ]
    },
    {
     "name": "stdout",
     "output_type": "stream",
     "text": [
      "trec_accnnm_p5_ctxtNum5_ctxtEmb10_convDrop0.2_lstmDrop0.2_pool3_perContext_mergeLevels_biLSTM_idf_fold_3.txt\n"
     ]
    },
    {
     "name": "stdout",
     "output_type": "stream",
     "text": [
      "trec_accnnm_p5_ctxtNum5_ctxtEmb10_convDrop0.2_lstmDrop0.2_pool3_perContext_mergeLevels_LSTM_idf_fold_2.txt\n"
     ]
    },
    {
     "name": "stdout",
     "output_type": "stream",
     "text": [
      "trec_accnnm_p5_ctxtNum10_ctxtEmb10_convDrop0.0_lstmDrop0.0_pool2_perContext_biLSTM_idf_fold_1.txt\n"
     ]
    },
    {
     "name": "stdout",
     "output_type": "stream",
     "text": [
      "trec_accnnm_p5_ctxtNum10_ctxtEmb10_convDrop0.0_lstmDrop0.0_pool2_perContext_LSTM_fold_0.txt\n"
     ]
    },
    {
     "name": "stdout",
     "output_type": "stream",
     "text": [
      "Donne.\n"
     ]
    }
   ],
   "source": [
    "# run evaluation with evaluate.py\n",
    "for f in os.listdir(runs):\n",
    "    if \"trec_\" in f:\n",
    "        print(f)\n",
    "        os.chdir(\"/home/thiziri/Documents/DOCTORAT/PROGRAMS/Projects/2ndYear/util/evaluationAndMesures\")\n",
    "        cmd = cmd_eval.replace(\"<runs_file>\", os.path.join(runs, f)).replace(\"<qrels>\", \n",
    "                                                                                  judgements).replace(\"<out>\", \n",
    "                                                                                                      os.path.join(out, f + \".eval\"))\n",
    "        os.system(cmd)\n",
    "        # break\n",
    "print(\"Donne.\")"
   ]
  },
  {
   "cell_type": "code",
   "execution_count": 36,
   "metadata": {
    "collapsed": false
   },
   "outputs": [
    {
     "name": "stdout",
     "output_type": "stream",
     "text": [
      "\n map : \t 0.1187\t0.2039\t0.1097\t0.1957\t0.1144\t0.21\t0.1608\t0.2549\t0.1623\t0.2355\n\n precision@1 : \t 0.26\t0.34\t0.26\t0.4\t0.38\n\n precision@5 : \t 0.268\t0.244\t0.252\t0.36\t0.34\n\n precision@10 : \t 0.264\t0.23\t0.214\t0.31\t0.302\n"
     ]
    },
    {
     "name": "stdout",
     "output_type": "stream",
     "text": [
      "\n ndcg@1 : \t 0.2133\t0.3133\t0.2133\t0.36\t0.3333\n\n ndcg@5 : \t 0.2837\t0.2396\t0.2491\t0.334\t0.3373\n\n ndcg@10 : \t 0.255\t0.2402\t0.2466\t0.312\t0.3049\n"
     ]
    }
   ],
   "source": [
    "# read values of a measure from a list of .eval files:\n",
    "from numpy import average as avg\n",
    "\n",
    "evals = out # \"/home/thiziri/Documents/DOCTORAT/OSIRIM/projets/iris/PROJETS/WEIR/code/3rdYear/MatchZoo_latest/MatchZoo/examples/trec/evaluation/concatenated/mz_baselines/\"\n",
    "files = os.listdir(evals)\n",
    "clue = \"accnnm_p5_ctxtNum10_ctxtEmb10_convDrop0.0_lstmDrop0.0_pool2_perContext_LSTM_idf\"\n",
    "measures = [\"map\", \"precision@1\", \"precision@5\", \"precision@10\", 'ndcg@1', 'ndcg@5', 'ndcg@10'] \n",
    "\n",
    "for measure in measures:\n",
    "    values = []\n",
    "    for file in files:\n",
    "        if clue in file:\n",
    "            with open(os.path.join(evals, file), 'r') as in_file:\n",
    "                lines = in_file.readlines()\n",
    "                for line in lines:\n",
    "                    if measure in line and \"all\" in line and measure+\"0\" not in line and '_'+measure not in line:\n",
    "                        val = line.strip().split()[-1]\n",
    "                        values.append(val)\n",
    "    print(\"\\n\", measure, ': \\t', '\\t'.join(values))  # , '\\t', avg(list(map(float, values))))"
   ]
  }
 ],
 "metadata": {
  "kernelspec": {
   "display_name": "Python 2",
   "language": "python",
   "name": "python2"
  },
  "language_info": {
   "codemirror_mode": {
    "name": "ipython",
    "version": 2
   },
   "file_extension": ".py",
   "mimetype": "text/x-python",
   "name": "python",
   "nbconvert_exporter": "python",
   "pygments_lexer": "ipython2",
   "version": "2.7.6"
  }
 },
 "nbformat": 4,
 "nbformat_minor": 0
}
