{
 "cells": [
  {
   "cell_type": "code",
   "execution_count": 9,
   "metadata": {
    "collapsed": true
   },
   "outputs": [],
   "source": [
    "# parameters:\n",
    "\n",
    "trec_eval = \"/home/thiziri/Documents/DOCTORAT/SOFT/trec_eval.9.0\"\n",
    "judgements = \"/home/thiziri/Documents/DOCTORAT/COLLECTION/QRELS/extractedQrels/qrels_Robust4_tab\"\n",
    "runs = \"/home/thiziri/Documents/DOCTORAT/OSIRIM/projets/iris/PROJETS/WEIR/code/3rdYear/MatchZoo_latest/MatchZoo/examples/trec/predictions/concatenated/ACCNNM/5/ammm_p5_trec\"\n",
    "out = \"/home/thiziri/Documents/DOCTORAT/OSIRIM/projets/iris/PROJETS/WEIR/code/3rdYear/MatchZoo_latest/MatchZoo/examples/trec/evaluation/concatenated/ACCNNM/5/ammm\"\n",
    "clue = \"trec\"\n"
   ]
  },
  {
   "cell_type": "code",
   "execution_count": 12,
   "metadata": {},
   "outputs": [],
   "source": [
    "# evalRuns.py --r=<runs_folder> --te=<trec_eval> --rj=<qrels> --o=<outputfolder> [--c=<clue>]\n",
    "cmd_trec = \"python3 runs/evalRuns.py --r={r} --te={te} --rj={rj} --o={o} --c={c}\".format(r=runs, te=trec_eval, rj=judgements, \n",
    "                                                                                         o=out, c=clue)\n",
    "# evalRuns.py --r=<runs_file> [--m=<measures_list>] [--rj=<qrels>] --check=<indice>\n",
    "cmd_eval = \"python3 measures/evaluate.py --r=<runs_file> --rj=<qrels> --check='trec' >> <out>\"  # + join(out, f)+\".eval\""
   ]
  },
  {
   "cell_type": "code",
   "execution_count": 11,
   "metadata": {},
   "outputs": [
    {
     "name": "stdout",
     "output_type": "stream",
     "text": [
      ".\n"
     ]
    },
    {
     "data": {
      "text/plain": [
       "0"
      ]
     },
     "execution_count": 11,
     "metadata": {},
     "output_type": "execute_result"
    }
   ],
   "source": [
    "# run evaluations: with trec_eval\n",
    "import os\n",
    "\n",
    "print(os.curdir)\n",
    "os.chdir(\"/home/thiziri/Documents/DOCTORAT/PROGRAMS/Projects/2ndYear/util/evaluationAndMesures\")\n",
    "os.system(cmd_trec)"
   ]
  },
  {
   "cell_type": "code",
   "execution_count": 13,
   "metadata": {},
   "outputs": [
    {
     "name": "stdout",
     "output_type": "stream",
     "text": [
      "trec_accnnm_p5_ctxtNum5_ctxtEmb10_convDrop0.2_lstmDrop0.2_pool3_perContext_mergeLevels_fold_0.txt\n"
     ]
    },
    {
     "name": "stdout",
     "output_type": "stream",
     "text": [
      "trec_accnnm_p5_ctxtNum10_ctxtEmb40_convDrop0.0_lstmDrop0.0_pool2_perContext_fold_0.txt\n"
     ]
    },
    {
     "name": "stdout",
     "output_type": "stream",
     "text": [
      "trec_accnnm_p5_ctxtNum5_ctxtEmb20_convDrop0.0_lstmDrop0.0_pool2_perContext_attP_mergeLevels_fold_4.txt\n"
     ]
    },
    {
     "name": "stdout",
     "output_type": "stream",
     "text": [
      "trec_accnnm_p5_ctxtNum20_ctxtEmb20_convDrop0.2_lstmDrop0.0_pool3_perContext_fold_2.txt\n"
     ]
    },
    {
     "name": "stdout",
     "output_type": "stream",
     "text": [
      "trec_accnnm_p5_ctxtNum20_ctxtEmb10_convDrop0.2_lstmDrop0.0_pool2_attQ_perContext_attP_fold_3.txt\n"
     ]
    },
    {
     "name": "stdout",
     "output_type": "stream",
     "text": [
      "trec_accnnm_p5_ctxtNum5_ctxtEmb20_convDrop0.0_lstmDrop0.0_pool2_perContext_attP_mergeLevels_fold_1.txt\n"
     ]
    },
    {
     "name": "stdout",
     "output_type": "stream",
     "text": [
      "trec_accnnm_p5_ctxtNum20_ctxtEmb10_convDrop0.2_lstmDrop0.0_pool2_attQ_perContext_attP_fold_4.txt\n"
     ]
    },
    {
     "name": "stdout",
     "output_type": "stream",
     "text": [
      "trec_accnnm_p5_ctxtNum5_ctxtEmb10_convDrop0.0_lstmDrop0.2_pool3_perContext_attP_mergeLevels_fold_1.txt\n"
     ]
    },
    {
     "name": "stdout",
     "output_type": "stream",
     "text": [
      "trec_accnnm_p5_ctxtNum10_ctxtEmb10_convDrop0.0_lstmDrop0.0_pool2_perContext_fold_3.txt\n"
     ]
    },
    {
     "name": "stdout",
     "output_type": "stream",
     "text": [
      "trec_accnnm_p5_ctxtNum10_ctxtEmb10_convDrop0.0_lstmDrop0.0_pool2_perContext_fold_0.txt\n"
     ]
    },
    {
     "name": "stdout",
     "output_type": "stream",
     "text": [
      "trec_accnnm_p5_ctxtNum5_ctxtEmb20_convDrop0.0_lstmDrop0.0_pool2_perContext_attP_mergeLevels_fold_0.txt\n"
     ]
    },
    {
     "name": "stdout",
     "output_type": "stream",
     "text": [
      "trec_accnnm_p5_ctxtNum10_ctxtEmb10_convDrop0.0_lstmDrop0.0_pool2_perContext_fold_2.txt\n"
     ]
    },
    {
     "name": "stdout",
     "output_type": "stream",
     "text": [
      "trec_accnnm_p5_ctxtNum20_ctxtEmb10_convDrop0.2_lstmDrop0.0_pool2_attQ_perContext_attP_fold_0.txt\n"
     ]
    },
    {
     "name": "stdout",
     "output_type": "stream",
     "text": [
      "trec_accnnm_p5_ctxtNum5_ctxtEmb10_convDrop0.2_lstmDrop0.2_pool3_perContext_mergeLevels_fold_1.txt\n"
     ]
    },
    {
     "name": "stdout",
     "output_type": "stream",
     "text": [
      "trec_accnnm_p5_ctxtNum20_ctxtEmb20_convDrop0.2_lstmDrop0.0_pool3_perContext_fold_0.txt\n"
     ]
    },
    {
     "name": "stdout",
     "output_type": "stream",
     "text": [
      "trec_accnnm_p5_ctxtNum5_ctxtEmb10_convDrop0.0_lstmDrop0.2_pool3_perContext_attP_mergeLevels_fold_2.txt\n"
     ]
    },
    {
     "name": "stdout",
     "output_type": "stream",
     "text": [
      "trec_accnnm_p5_ctxtNum20_ctxtEmb20_convDrop0.2_lstmDrop0.0_pool3_perContext_fold_3.txt\n"
     ]
    },
    {
     "name": "stdout",
     "output_type": "stream",
     "text": [
      "trec_accnnm_p5_ctxtNum10_ctxtEmb10_convDrop0.0_lstmDrop0.0_pool2_perContext_fold_4.txt\n"
     ]
    },
    {
     "name": "stdout",
     "output_type": "stream",
     "text": [
      "trec_accnnm_p5_ctxtNum10_ctxtEmb40_convDrop0.0_lstmDrop0.0_pool2_perContext_fold_3.txt\n"
     ]
    },
    {
     "name": "stdout",
     "output_type": "stream",
     "text": [
      "trec_accnnm_p5_ctxtNum5_ctxtEmb10_convDrop0.0_lstmDrop0.2_pool3_perContext_attP_mergeLevels_fold_3.txt\n"
     ]
    },
    {
     "name": "stdout",
     "output_type": "stream",
     "text": [
      "trec_accnnm_p5_ctxtNum10_ctxtEmb10_convDrop0.0_lstmDrop0.0_pool2_perContext_fold_1.txt\n"
     ]
    },
    {
     "name": "stdout",
     "output_type": "stream",
     "text": [
      "trec_accnnm_p5_ctxtNum10_ctxtEmb40_convDrop0.0_lstmDrop0.0_pool2_perContext_fold_4.txt\n"
     ]
    },
    {
     "name": "stdout",
     "output_type": "stream",
     "text": [
      "trec_accnnm_p5_ctxtNum20_ctxtEmb20_convDrop0.2_lstmDrop0.0_pool3_perContext_fold_4.txt\n"
     ]
    },
    {
     "name": "stdout",
     "output_type": "stream",
     "text": [
      "trec_accnnm_p5_ctxtNum5_ctxtEmb20_convDrop0.0_lstmDrop0.0_pool2_perContext_attP_mergeLevels_fold_2.txt\n"
     ]
    },
    {
     "name": "stdout",
     "output_type": "stream",
     "text": [
      "trec_accnnm_p5_ctxtNum5_ctxtEmb10_convDrop0.0_lstmDrop0.2_pool3_perContext_attP_mergeLevels_fold_4.txt\n"
     ]
    },
    {
     "name": "stdout",
     "output_type": "stream",
     "text": [
      "trec_accnnm_p5_ctxtNum5_ctxtEmb20_convDrop0.0_lstmDrop0.0_pool2_perContext_attP_mergeLevels_fold_3.txt\n"
     ]
    },
    {
     "name": "stdout",
     "output_type": "stream",
     "text": [
      "trec_accnnm_p5_ctxtNum10_ctxtEmb40_convDrop0.0_lstmDrop0.0_pool2_perContext_fold_2.txt\n"
     ]
    },
    {
     "name": "stdout",
     "output_type": "stream",
     "text": [
      "trec_accnnm_p5_ctxtNum5_ctxtEmb10_convDrop0.0_lstmDrop0.2_pool3_perContext_attP_mergeLevels_fold_0.txt\n"
     ]
    },
    {
     "name": "stdout",
     "output_type": "stream",
     "text": [
      "trec_accnnm_p5_ctxtNum10_ctxtEmb40_convDrop0.0_lstmDrop0.0_pool2_perContext_fold_1.txt\n"
     ]
    },
    {
     "name": "stdout",
     "output_type": "stream",
     "text": [
      "trec_accnnm_p5_ctxtNum20_ctxtEmb10_convDrop0.2_lstmDrop0.0_pool2_attQ_perContext_attP_fold_1.txt\n"
     ]
    },
    {
     "name": "stdout",
     "output_type": "stream",
     "text": [
      "trec_accnnm_p5_ctxtNum20_ctxtEmb10_convDrop0.2_lstmDrop0.0_pool2_attQ_perContext_attP_fold_2.txt\n"
     ]
    },
    {
     "name": "stdout",
     "output_type": "stream",
     "text": [
      "trec_accnnm_p5_ctxtNum5_ctxtEmb10_convDrop0.2_lstmDrop0.2_pool3_perContext_mergeLevels_fold_3.txt\n"
     ]
    },
    {
     "name": "stdout",
     "output_type": "stream",
     "text": [
      "trec_accnnm_p5_ctxtNum5_ctxtEmb10_convDrop0.2_lstmDrop0.2_pool3_perContext_mergeLevels_fold_2.txt\n"
     ]
    },
    {
     "name": "stdout",
     "output_type": "stream",
     "text": [
      "trec_accnnm_p5_ctxtNum20_ctxtEmb20_convDrop0.2_lstmDrop0.0_pool3_perContext_fold_1.txt\n"
     ]
    },
    {
     "name": "stdout",
     "output_type": "stream",
     "text": [
      "trec_accnnm_p5_ctxtNum5_ctxtEmb10_convDrop0.2_lstmDrop0.2_pool3_perContext_mergeLevels_fold_4.txt\n"
     ]
    },
    {
     "name": "stdout",
     "output_type": "stream",
     "text": [
      "Donne.\n"
     ]
    }
   ],
   "source": [
    "# run evaluation with evaluate.py\n",
    "for f in os.listdir(runs):\n",
    "    if \"trec\" in f:\n",
    "        print(f)\n",
    "        os.chdir(\"/home/thiziri/Documents/DOCTORAT/PROGRAMS/Projects/2ndYear/util/evaluationAndMesures\")\n",
    "        cmd = cmd_eval.replace(\"<runs_file>\", os.path.join(runs, f)).replace(\"<qrels>\", \n",
    "                                                                                  judgements).replace(\"<out>\", \n",
    "                                                                                                      os.path.join(out, f + \".eval\"))\n",
    "        os.system(cmd)\n",
    "        # break\n",
    "print(\"Donne.\")"
   ]
  },
  {
   "cell_type": "code",
   "execution_count": 77,
   "metadata": {
    "collapsed": false
   },
   "outputs": [
    {
     "name": "stdout",
     "output_type": "stream",
     "text": [
      "trec_accnnm_p5_ctxtNum5_ctxtEmb10_convDrop0.2_lstmDrop0.2_pool3_perContext_mergeLevels_fold_3.txt.eval \n 0.2453\t0.3051\t0.2313\t0.2968\t0.2915\n"
     ]
    }
   ],
   "source": [
    "# read values of a measure from a list of .eval files:\n",
    "evals = \"/home/thiziri/Documents/DOCTORAT/OSIRIM/projets/iris/PROJETS/WEIR/code/3rdYear/MatchZoo_latest/MatchZoo/examples/trec/evaluation/concatenated/ACCNNM/5/ammm\"\n",
    "files = os.listdir(evals)\n",
    "clue = \"trec_accnnm_p5_ctxtNum5_ctxtEmb10_convDrop0.0_lstmDrop0.2_pool3_perContext_attP_mergeLevels\"\n",
    "measure = \"ndcg@10\"\n",
    "values = []\n",
    "for file in files:\n",
    "    if clue in file:\n",
    "        with open(os.path.join(evals, file), 'r') as in_file:\n",
    "            lines = in_file.readlines()\n",
    "            for line in lines:\n",
    "                if measure in line and \"all\" in line and measure+\"0\" not in line and '_'+measure not in line:\n",
    "                    val = line.strip().split()[-1]\n",
    "                    values.append(val)\n",
    "print(file, '\\n', '\\t'.join(values))"
   ]
  }
 ],
 "metadata": {
  "kernelspec": {
   "display_name": "Python 2",
   "language": "python",
   "name": "python2"
  },
  "language_info": {
   "codemirror_mode": {
    "name": "ipython",
    "version": 2
   },
   "file_extension": ".py",
   "mimetype": "text/x-python",
   "name": "python",
   "nbconvert_exporter": "python",
   "pygments_lexer": "ipython2",
   "version": "2.7.6"
  }
 },
 "nbformat": 4,
 "nbformat_minor": 0
}
